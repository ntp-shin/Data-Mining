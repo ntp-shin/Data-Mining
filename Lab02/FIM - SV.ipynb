{
 "cells": [
  {
   "cell_type": "markdown",
   "id": "26316492",
   "metadata": {},
   "source": [
    "# Lab 2 - Frequent Itemset Mining\n",
    "\n",
    "- Bài tập rèn luyện về khả năng lập trình thuật toán khai thách mẫu phổ biến (Frequent Itemset Mining)\n",
    "\n",
    "- **Trong bài tập này, sinh viên không được phép dùng các thư viện hỗ trợ cài đặt thuật toán FIM như sklearn, mlxtend, ...**\n",
    "\n",
    "\n",
    "## Thông tin cá nhân \n",
    "- Họ và tên: Nguyễn Tấn Phát\n",
    "- Mã số sinh viên: 20127588 "
   ]
  },
  {
   "cell_type": "markdown",
   "id": "e4acadda",
   "metadata": {},
   "source": [
    "&#127802; Sinh viên lưu ý mình sẽ dùng chương trình hỗ trợ chấm bài nên bạn cần phải tuân thủ chính xác qui định mà mình đặt ra, nếu không rõ thì hỏi, chứ không nên tự tiện làm theo ý của cá nhân.\n",
    "\n",
    "## Cách làm bài\n",
    "\n",
    "**Bạn sẽ làm trực tiếp trên file Python notebook này (jupyter notebook - sinh viên không được dùng Google Colab).**\n",
    "\n",
    "Đầu tiên, bạn điền họ tên và MSSV vào phần đầu file ở bên trên. Trong file, bạn làm bài ở những chỗ có ghi là:\n",
    "\n",
    "```python\n",
    "# YOUR CODE HERE\n",
    "raise NotImplementedError()\n",
    "```\n",
    "hoặc đối với những phần code không bắt buộc thì là:\n",
    "```python\n",
    "# YOUR CODE HERE (OPTION)\n",
    "```\n",
    "\n",
    "Tất nhiên, khi làm thì bạn xóa dòng `raise NotImplementedError()` đi.\n",
    "Đối những phần yêu cầu code thì thường ở ngay phía dưới sẽ có một (hoặc một số) cell chứa các bộ test để giúp bạn biết đã code đúng hay chưa; nếu chạy cell này không có lỗi gì thì có nghĩa là qua được các bộ test. Trong một số trường hợp, các bộ test có thể sẽ không đầy đủ; nghĩa là, nếu không qua được test thì là code sai, nhưng nếu qua được test thì chưa chắc đã đúng hoàn toàn.\n",
    "\n",
    "Trong khi làm bài, bạn có thể cho in ra màn hình, tạo thêm các cell để test. Nhưng khi nộp bài thì bạn xóa các cell mà bạn tự tạo, xóa hoặc comment các câu lệnh in ra màn hình. Bạn lưu ý <font color=red>không được tự tiện xóa các cell hay sửa code của Thầy</font> (trừ những chỗ được phép sửa như đã nói ở trên).\n",
    "\n",
    "\n",
    "Trong khi làm bài, thường xuyên `Ctrl + S` để lưu lại bài làm của bạn, tránh mất mát thông tin.\n",
    "\n",
    "Bạn có thể thảo luận ý tưởng với bạn khác hoặc từ các nguồn khác, nhưng code và bài làm phải là của bạn, dựa trên sự hiểu thật sự của bạn. Nếu vi phạm thì sẽ bị 0 điểm cho toàn bộ môn học.\n",
    "\n",
    "## Cách nộp bài\n",
    "\n",
    "Khi chấm bài, đầu tiên mình sẽ chọn `Kernel` - `Restart & Run All` để restart và chạy tất cả các cell trong notebook của bạn; do đó, trước khi nộp bài, bạn nên chạy thử `Kernel` - `Restart & Run All` để đảm bảo mọi chuyện diễn ra đúng như mong đợi.\n",
    "\n",
    "Sau đó, bạn tạo thư mục nộp bài theo cấu trúc sau:\n",
    "- Thư mục `MSSV` (vd, nếu bạn có MSSV là 123 thì bạn đặt tên thư mục là `123`)\n",
    "    - File `FIM - SV.ipynb`\n",
    "- Các bạn nén lại MSSV.zip (*.zip chứ không phải .rar hay gì khác)\n",
    "\n",
    "Cuối cùng, bạn nén thư mục `MSSV` này lại và nộp ở link trên moodle. <font color=red>Bạn lưu ý tuân thủ chính xác qui định nộp bài.</font>"
   ]
  },
  {
   "cell_type": "code",
   "execution_count": 24,
   "id": "9041b370",
   "metadata": {},
   "outputs": [],
   "source": [
    "import os\n",
    "import numpy as np\n",
    "import csv\n",
    "# YOUR CODE HERE (OPTION)"
   ]
  },
  {
   "cell_type": "markdown",
   "id": "5e8edb60",
   "metadata": {},
   "source": [
    "- Trong bài tập này, nhiệm vụ của chúng ta là khai thác các tập phổ biến (Frequent Itemset Mining).\n",
    "- Bộ dữ liệu chúng ta dùng sẽ là dữ liệu mua hàng trong một siêu thị."
   ]
  },
  {
   "cell_type": "markdown",
   "id": "66ddc1fc",
   "metadata": {},
   "source": [
    "# 1. Đọc và khám phá dữ liệu"
   ]
  },
  {
   "cell_type": "markdown",
   "id": "18f84a69",
   "metadata": {},
   "source": [
    "## a. Đọc dữ liệu\n",
    "\n",
    "- Đầu tiên, ta sẽ đọc dữ liệu và lưu vào một `python list` 2D có tên là `list_transactions`. Dữ liệu nằm trong file `groceries.csv`\n",
    "- Ví dụ\"\n",
    "`list_transactions` = [\n",
    "                    ['milk', 'coffee'],\n",
    "                    ['vegetable', 'candy', 'tomato']\n",
    "                    ...\n",
    "                 ]\n",
    "                 \n",
    "### Lưu ý:\n",
    "- Trong bài tập này, ta sẽ xem transaction_id là thứ tự của transaction đó trong `list_transactions`.\n",
    "- Đối với phần tử trong `list_transactions`, ta cần gọi hàm sorted() của Python. Hành động này để đảm bảo mọi phần tử được sắp xếp theo một thứ tự.\n",
    "    + Ví dụ: `list_transactions[i] = sorted(list_transactions[i])`"
   ]
  },
  {
   "cell_type": "code",
   "execution_count": 25,
   "id": "1640c7ab",
   "metadata": {},
   "outputs": [],
   "source": [
    "list_transactions = []\n",
    "\n",
    "# YOUR CODE HERE\n",
    "f = open('groceries.csv', 'r')\n",
    "line = f.readline()\n",
    "while line:\n",
    "    line = line.replace('\\n', '')\n",
    "    items = sorted(line.split(','))\n",
    "    list_transactions.append(items)\n",
    "    line = f.readline()\n",
    "f.close()"
   ]
  },
  {
   "cell_type": "code",
   "execution_count": 26,
   "id": "133bc0bd",
   "metadata": {},
   "outputs": [
    {
     "name": "stdout",
     "output_type": "stream",
     "text": [
      "['citrus fruit', 'margarine', 'ready soups', 'semi-finished bread']\n"
     ]
    }
   ],
   "source": [
    "print(list_transactions[0])"
   ]
  },
  {
   "cell_type": "code",
   "execution_count": 27,
   "id": "6652a7e8",
   "metadata": {},
   "outputs": [],
   "source": [
    "# TEST\n",
    "assert len(list_transactions) == 9835\n",
    "assert list_transactions[0] == ['citrus fruit', 'margarine', 'ready soups', 'semi-finished bread']\n",
    "assert list_transactions[-1] == ['chicken', 'other vegetables', 'shopping bags', 'tropical fruit', 'vinegar']"
   ]
  },
  {
   "cell_type": "markdown",
   "id": "861fb374",
   "metadata": {},
   "source": [
    "## b. Khám phá dữ liệu\n",
    "\n",
    "- Tiếp theo, ta sẽ tìm tất cả item trong dữ liệu. Kết quả sẽ được lưu vào `1D python list` có tên là `list_items`.\n",
    "- Ví dụ: `list_items` = ['milk', 'coffee', ...]\n",
    "- **Lưu ý**: để dữ liệu của mình và các bạn giống nhau, sau khi xử lý xong `list_items`, các bạn gọi hàm `sorted()` của Python. \n",
    "Ví dụ: `list_items = sorted(list_items)`"
   ]
  },
  {
   "cell_type": "code",
   "execution_count": 28,
   "id": "b77ce834",
   "metadata": {},
   "outputs": [],
   "source": [
    "list_items = []\n",
    "\n",
    "# YOUR CODE HERE\n",
    "dic_items = {}\n",
    "for transaction in list_transactions:\n",
    "    for item in transaction:\n",
    "        if item not in dic_items:\n",
    "            dic_items[item] = 1\n",
    "        else:\n",
    "            dic_items[item] += 1\n",
    "\n",
    "list_items = sorted(list(dic_items.keys()))\n"
   ]
  },
  {
   "cell_type": "code",
   "execution_count": 29,
   "id": "585351b5",
   "metadata": {},
   "outputs": [],
   "source": [
    "# TEST\n",
    "assert list_items == sorted(list((set(list_items))))\n",
    "assert len(list_items) == 169"
   ]
  },
  {
   "cell_type": "markdown",
   "id": "07389c7c",
   "metadata": {},
   "source": [
    "# 2. Khái niệm cơ bản - khai thác mẫu phổ biển (Frequent itemset mining)\n",
    "\n",
    "- Trong phần này, chúng ta sẽ tính một số khái niệm cơ bản trong khai thác mẫu phổ biến gồm:\n",
    "    + Itemset_Cover(X): tập hợp các transaction chứa X.\n",
    "    + Absolute_Support(X): số lượng các transaction chứa X.\n",
    "    + Relative_Support(X): tỷ lệ transaction chứa X.\n",
    "    + Frequent_itemset(X): itemset X là frequent (phổ biến) nếu Frequent_itemset(X) $\\geq$ min_sup "
   ]
  },
  {
   "cell_type": "markdown",
   "id": "6957d87f",
   "metadata": {},
   "source": [
    "## a. Itemset Cover\n",
    "\n",
    "- Itemset_Cover(X): tập hợp các transaction chứa X.\n",
    "\n",
    "- Nhiệm vụ của sinh viên: hoàn thành hàm `Find_Itemset_Cover(X, list_transactions)` bên dưới"
   ]
  },
  {
   "cell_type": "code",
   "execution_count": 30,
   "id": "25163e9c",
   "metadata": {},
   "outputs": [],
   "source": [
    "def Find_Itemset_Cover(X, list_transactions):\n",
    "    \"\"\"\n",
    "    Function find the set of transaction containing X.\n",
    "    \n",
    "    * Parameter:\n",
    "    X -- a 1D python list, indicate an itemset. For example ['milk', 'coffee', ...]\n",
    "    list_transactions - a 2D python list, indicate the list of transactions\n",
    "    \n",
    "    * Return:\n",
    "    list_transaction_cover -- a python list, indicate the list of transaction_id containing X. \n",
    "                                For example: [1, 2, 100, ...]\n",
    "    \"\"\"\n",
    "    list_transaction_cover = []\n",
    "    \n",
    "    # YOUR CODE HERE\n",
    "    for i, transaction in enumerate(list_transactions):\n",
    "        if set(X).issubset(set(transaction)):\n",
    "            list_transaction_cover.append(i)    \n",
    "    return list_transaction_cover"
   ]
  },
  {
   "cell_type": "code",
   "execution_count": 31,
   "id": "7a652627",
   "metadata": {},
   "outputs": [],
   "source": [
    "# TEST\n",
    "\n",
    "# ----- Test case 1 -----\n",
    "X = ['sausage', 'whole milk', 'yogurt', 'coffee']\n",
    "list_transaction_cover = Find_Itemset_Cover(X, list_transactions)\n",
    "assert list_transaction_cover == [103, 1252, 2121, 3294, 3500, 4430, 4454, 6617, 6710, 8367, 8813]\n",
    "\n",
    "# ----- Test case 2 -----\n",
    "X = ['onions', 'domestic eggs', 'soda', 'hygiene articles']\n",
    "list_transaction_cover = Find_Itemset_Cover(X, list_transactions)\n",
    "assert list_transaction_cover == [267, 1000]"
   ]
  },
  {
   "cell_type": "markdown",
   "id": "f82b8040",
   "metadata": {},
   "source": [
    "## b. Absolute support\n",
    "\n",
    "- Absolute_Support(X): số lượng các transaction chứa X.\n",
    "- Nhiệm vụ của sinh viên, hoàn thành hàm `Cal_Absolute_Support(X, list_transactions)` bên dưới."
   ]
  },
  {
   "cell_type": "code",
   "execution_count": 32,
   "id": "1ab32a14",
   "metadata": {},
   "outputs": [],
   "source": [
    "def Cal_Absolute_Support(X, list_transactions):\n",
    "    \"\"\"\n",
    "    Function calculate absolute support of itemset X.\n",
    "    \n",
    "    * Parameter:\n",
    "    X -- a 1D python list, indicate an itemset. For example ['milk', 'coffee', ...]\n",
    "    list_transactions - a 2D python list, indicate the list of transactions\n",
    "    \n",
    "    * Return:\n",
    "    abs_support -- an integer, indicate the number of transactions containing X\n",
    "    \"\"\"\n",
    "    \n",
    "    abs_support = None\n",
    "    \n",
    "    # YOUR CODE HERE\n",
    "    cover_list = Find_Itemset_Cover(X, list_transactions)\n",
    "    abs_support = len(cover_list)\n",
    "    \n",
    "    return abs_support"
   ]
  },
  {
   "cell_type": "code",
   "execution_count": 33,
   "id": "1ae245ac",
   "metadata": {},
   "outputs": [
    {
     "name": "stdout",
     "output_type": "stream",
     "text": [
      "1372\n"
     ]
    }
   ],
   "source": [
    "X = ['yogurt']\n",
    "abs_support = Cal_Absolute_Support(X, list_transactions)\n",
    "print(abs_support)"
   ]
  },
  {
   "cell_type": "code",
   "execution_count": 34,
   "id": "3d862592",
   "metadata": {},
   "outputs": [],
   "source": [
    "# TEST\n",
    "\n",
    "# ----- Test case 1 -----\n",
    "X = ['sausage', 'whole milk', 'yogurt', 'coffee']\n",
    "abs_support = Cal_Absolute_Support(X, list_transactions)\n",
    "assert abs_support == 11\n",
    "\n",
    "# ----- Test case 2 -----\n",
    "X = ['onions', 'domestic eggs', 'soda', 'hygiene articles']\n",
    "abs_support = Cal_Absolute_Support(X, list_transactions)\n",
    "assert abs_support == 2"
   ]
  },
  {
   "cell_type": "markdown",
   "id": "bc27f8ad",
   "metadata": {},
   "source": [
    "## c. Relative_Support\n",
    "\n",
    "- Relative_Support(X): tỷ lệ transaction chứa X.\n",
    "\n",
    "- Equation:\n",
    "$$ Relative = \\frac{Absolute}{|transaction|}$$\n",
    "\n",
    "\n",
    "- Nhiệm vụ của sinh viên: hoàn thành hàm `Cal_Relative_Support(X, list_transactions)` bên dưới.\n",
    "- **Lưu ý**: kết quả làm tròn 4 chữ số thập phân, dùng hàm `round(x, 4)` của Python"
   ]
  },
  {
   "cell_type": "code",
   "execution_count": 35,
   "id": "2fa6e109",
   "metadata": {},
   "outputs": [],
   "source": [
    "def Cal_Relative_Support(X, list_transactions):\n",
    "    \"\"\"\n",
    "    Function calculate absolute support of itemset X.\n",
    "    \n",
    "    * Parameter:\n",
    "    X -- a 1D python list, indicate an itemset. For example ['milk', 'coffee', ...]\n",
    "    list_transactions - a 2D python list, indicate the list of transactions\n",
    "    \n",
    "    * Return:\n",
    "    relative_support -- a float, indicate the probability of transactions containing X\n",
    "    \"\"\"\n",
    "    \n",
    "    relative_support = None\n",
    "    \n",
    "    # YOUR CODE HERE\n",
    "    absolute = Cal_Absolute_Support(X, list_transactions)\n",
    "    relative_support = absolute / len(list_transactions)    \n",
    "    return round(relative_support, 4)"
   ]
  },
  {
   "cell_type": "code",
   "execution_count": 36,
   "id": "43337173",
   "metadata": {},
   "outputs": [],
   "source": [
    "# TEST\n",
    "\n",
    "# ----- Test case 1 -----\n",
    "X = ['sausage', 'whole milk', 'yogurt', 'coffee']\n",
    "relative_support = Cal_Relative_Support(X, list_transactions)\n",
    "assert relative_support == 0.0011\n",
    "\n",
    "# ----- Test case 2 -----\n",
    "X = ['onions', 'domestic eggs', 'soda', 'hygiene articles']\n",
    "relative_support = Cal_Relative_Support(X, list_transactions)\n",
    "assert relative_support == 0.0002\n",
    "\n",
    "# ----- Test case 3 -----\n",
    "X = ['bottled water']\n",
    "relative_support = Cal_Relative_Support(X, list_transactions)\n",
    "assert relative_support == 0.1105"
   ]
  },
  {
   "cell_type": "markdown",
   "id": "d0b0b362",
   "metadata": {},
   "source": [
    "## d. Frequent_itemset(X): \n",
    "- Gọi itemset X là frequent (phổ biến) nếu Frequent_itemset(X) $\\geq$ min_sup \n",
    "- Nhiệm vụ của sinh viên, hoàn thành hàm `Check_Frequent_Itemset(X, list_transactions)` bên dưới."
   ]
  },
  {
   "cell_type": "code",
   "execution_count": 37,
   "id": "1a00c315",
   "metadata": {},
   "outputs": [],
   "source": [
    "def Check_Frequent_Itemset(X, list_transactions, min_sup):\n",
    "    \"\"\"\n",
    "    Function check the itemset X is a frequent of not\n",
    "    \n",
    "    * Parameter:\n",
    "    X -- a 1D python list, indicate an itemset. For example ['milk', 'coffee', ...]\n",
    "    list_transactions -- a 2D python list, indicate the list of transactions\n",
    "    min_support -- a float, indicate the minimum support value\n",
    "    \n",
    "    * Return:\n",
    "    is_frequent -- a boolean value. True if X is frequent. False otherwise.\n",
    "    \"\"\"\n",
    "    \n",
    "    is_frequent = None\n",
    "    \n",
    "    # YOUR CODE HERE\n",
    "    frequent_itemset = Cal_Relative_Support(X, list_transactions)\n",
    "    if frequent_itemset >= min_sup:\n",
    "        is_frequent = True\n",
    "    else:\n",
    "        is_frequent = False\n",
    "    \n",
    "    return is_frequent"
   ]
  },
  {
   "cell_type": "code",
   "execution_count": 38,
   "id": "12e9f37f",
   "metadata": {},
   "outputs": [],
   "source": [
    "# TEST\n",
    "\n",
    "# ----- Test case 1 -----\n",
    "X = ['whole milk']\n",
    "min_sup = 0.15\n",
    "is_frequent = Check_Frequent_Itemset(X, list_transactions, min_sup)\n",
    "assert is_frequent == True\n",
    "\n",
    "# ----- Test case 1 -----\n",
    "X = ['soda']\n",
    "min_sup = 0.15\n",
    "is_frequent = Check_Frequent_Itemset(X, list_transactions, min_sup)\n",
    "assert is_frequent == True"
   ]
  },
  {
   "cell_type": "markdown",
   "id": "3d065d84",
   "metadata": {},
   "source": [
    "## e. Một số khái niệm khác\n",
    "\n",
    "- itemset:\n",
    "    + Tập các item được lấy ra từ list_items.\n",
    "    + Ví dụ: ['Butter', 'Bread', 'Milk'] hoặc ['Butter', 'Bread']\n",
    "\n",
    "- k-itemset: \n",
    "    + itemset có kích thước k. \n",
    "    + Ví dụ: ['milk', 'coffee', 'canday'] là 3-itemset\n",
    "    "
   ]
  },
  {
   "cell_type": "markdown",
   "id": "07039819",
   "metadata": {},
   "source": [
    "# 3. Bài toán Khai thác mẫu phổ biển (Frequent itemset mining)\n",
    "\n",
    "- Xét bài toán gồn:\n",
    "    + list_items (ký hiệu I) -- tập hợp tất cả các item trong siêu thị.\n",
    "    + list_transactions -- tập hợp tất cả các transaction trong siêu thị.\n",
    "    + min support s -- giá trị ngưỡng support nhỏ nhất.\n",
    "    \n",
    "- Mục tiêu: tìm tất cả các itemset X có thể có, sao cho relative_support(X) $\\geq$ min_support"
   ]
  },
  {
   "cell_type": "markdown",
   "id": "96380838",
   "metadata": {},
   "source": [
    "## a. Cách tiếp cận để giải bài toán FIM\n",
    "\n",
    "- Cách đơn giản nhất để giải bài toán FIM:\n",
    "    + Gọi I là kích thước của `list_items`.\n",
    "    + Duyệt k: 1, 2, ..., I:\n",
    "        + Tìm tất cả k-itemset có relative support lớn hơn min_support.\n",
    "        \n",
    "- Số lần duyệt của bài toán trên là: $2^I - 1$. Một con số vô cùng lớn và không khả thi trong quá trình tính toán.\n",
    "\n",
    "- Do đó, ta sẽ dùng thuật toán Apriori để giải bài toán FIM."
   ]
  },
  {
   "cell_type": "markdown",
   "id": "7ef0e290",
   "metadata": {},
   "source": [
    "## b. Apriori algorithm\n",
    "\n",
    "- Các bước chính của thuật toán Apriori gồm:\n",
    "    1. Tạo các tập phổ biến 1-itemset ($L_1$)\n",
    "    2. Tạo ra tập ứng viên (gọi là $C_{k+1}$), gồm các (k+1)-itemset từ tập $L_k$.\n",
    "    3. Kiểm tra các ứng viên trong $C_{k+1}$ có là tập phổ biến không. Nếu là phổ biến thì lưu vào $L_{k+1}$.\n",
    "    4. Lặp lại bước 2 cho đến khi không còn ứng viên nào.\n",
    "    \n",
    "    \n",
    "- Trong quá trình trên, bước 1 và bước 4 là các bước đơn giản. Tuy nhiên, bước 2 và bước 3 là các bước phức tạp và mang tính chất quan trọng của thuật toán Apriori. Do đó, ta sẽ phân tích kỹ bước 2 và bước 3."
   ]
  },
  {
   "cell_type": "markdown",
   "id": "87d4bed8",
   "metadata": {},
   "source": [
    "### **Bước 2 (bước tổng hợp - join step):**\n",
    "- Bước này có nhiệm vụ tạo ra tập ứng viên $C_{k+1}$.\n",
    "- $C_{k+1}$ được tạo từ tập $L_k$ bằng phép tính self-join: $C_{k+1} = L_k * L_k$\n",
    "- Hai k-itemset có thể self-join nếu chúng có cùng tiền tố. (k-1 item đầu tiên).\n",
    "    + Ví dụ: ['candy', 'coffee', 'milk'] và ['candy', 'coffee', 'fruit'] sẽ tạo thành [coffee, milk, candy, fruit]\n",
    "    \n",
    "### Ví dụ: \n",
    "\n",
    "- Bước tổng hợp\n",
    "    + $L_3$ = [abc , abd , acd , ace, bcd]\n",
    "    + Bước tổng hợp: $C_4$ = [abcd, acde]\n",
    "    + Vì: abcd = abc * abd, acde = acd * ace\n",
    "   "
   ]
  },
  {
   "cell_type": "markdown",
   "id": "e4d55ae3",
   "metadata": {},
   "source": [
    "- Nhiệm vụ của sinh viên: hoàn thành hàm `Cal_Self_Join(itemset_1, itemset_2)`. \n",
    "- **Lưu ý:** kết quả cần được gọi hàm sorted(), để đảm bảo thứ tự của itemset. "
   ]
  },
  {
   "cell_type": "code",
   "execution_count": 39,
   "id": "90ed5a66",
   "metadata": {},
   "outputs": [],
   "source": [
    "def Cal_Self_Join(itemset_1, itemset_2):\n",
    "    \"\"\"\n",
    "    Function perform self-joining step between itemset_1 and itemset_2\n",
    "    \n",
    "    * Parameter:\n",
    "    itemset_1 -- a 1D python list, indicate the itemset. For example ['candy', 'coffee', 'fruit']\n",
    "    itemset_2 -- a 1D python list, indicate the itemset. For example ['candy', 'coffee', 'milk']\n",
    "    \n",
    "    * Return:\n",
    "    join_itemset -- a 1D python list, indicate the join itemset. For example ['candy', 'coffee', 'fruit', 'milk'].\n",
    "                        In case itemset_1 and itemset_2 can not join. Return []\n",
    "    \"\"\"\n",
    "    \n",
    "    join_itemset = None\n",
    "    \n",
    "    # YOUR CODE HERE\n",
    "    itemset_3 = itemset_1 + itemset_2\n",
    "    itemset_3 = list(set(itemset_3))\n",
    "    if len(itemset_3) == len(itemset_1) + 1:\n",
    "        join_itemset = itemset_3\n",
    "    else:\n",
    "        join_itemset = []\n",
    "\n",
    "    \n",
    "    return sorted(join_itemset)"
   ]
  },
  {
   "cell_type": "code",
   "execution_count": 40,
   "id": "08bbc235",
   "metadata": {},
   "outputs": [],
   "source": [
    "# TEST\n",
    "\n",
    "# ----- Test case 1 -----\n",
    "itemset_1 = ['candy', 'coffee', 'milk']\n",
    "itemset_2 = ['candy', 'coffee', 'fruit']\n",
    "assert Cal_Self_Join(itemset_1, itemset_2) == ['candy', 'coffee', 'fruit', 'milk']\n",
    "\n",
    "# ----- Test case 2 -----\n",
    "itemset_1 = ['candy', 'coffee', 'milk']\n",
    "itemset_2 = ['candy', 'coffee']\n",
    "assert Cal_Self_Join(itemset_1, itemset_2) == []"
   ]
  },
  {
   "cell_type": "markdown",
   "id": "ea414f67",
   "metadata": {},
   "source": [
    "### **Bước 3 (bước cắt tỉa -- prune step):**\n",
    "\n",
    "- Bước này có nhiệm vụ: loại bỏ các ứng viên $C_{k+1}$ và trả về $L_{k+1}$.\n",
    "- Ý tưởng đơn giản: loại bỏ các ứng viên có relative support nhỏ hơn min_sup. Tuy nhiên, các này yêu cầu truy xuất dữ liệu list transaction => Không hiệu quả.\n",
    "\n",
    "- Ta thực hiện cắt tỉa dựa vào hai yếu tố sau:\n",
    "1. Cắt tỉa bởi tính chất của Apriori:\n",
    "    + Nếu ứng viên k-itemset có tập con (k-1) không phải là tập phổ biến. Thì ứng viên k-itemset đó không phải là phổ biến => Loại.\n",
    "    + Tại bước này, ta chỉ cần kiểm tra (k-1) tập con.\n",
    "    \n",
    "    \n",
    "2. Cắt tỉa bởi min_sup:\n",
    "    + Ứng viên nào có relative support nhỏ hơn min_sup thì loại.\n",
    "    \n",
    "### Ví dụ: \n",
    "\n",
    "- Bước tổng hợp\n",
    "    + $L_3$ = [abc , abd , acd , ace, bcd]\n",
    "    + Bước tổng hợp: $C_4$ = [abcd, acde]\n",
    "    + Vì: abcd = abc * abd, acde = acd * ace\n",
    "    \n",
    "- Bước cắt tỉa:\n",
    "    + Cắt tỉa bởi Apriori: acde bị cắt tỉa, do cde không thuộc $L_3$\n",
    "    + Cắt tỉa bởi min_sup: kiểm tra relative support của abcd có lớn hơn min_sup?"
   ]
  },
  {
   "cell_type": "markdown",
   "id": "918c3bf5",
   "metadata": {},
   "source": [
    "- Nhiệm vụ của sinh viên: hoàn thành hàm `Prune_By_Apriori(list_candidate, list_previous_frequent_itemset)` được định nghĩa bên dưới.\n",
    "- **Lưu ý:** mỗi ứng viên (candidate) trong `new_list_candidate`, đều cần được gọi hàm `sorted()` của Python. Và `new_list_candidate` cũng cần được gọi hàm `sorted()` của Python"
   ]
  },
  {
   "cell_type": "code",
   "execution_count": 41,
   "id": "27af2750",
   "metadata": {},
   "outputs": [],
   "source": [
    "def Prune_By_Apriori(list_candidate, list_previous_frequent_itemset):\n",
    "    \"\"\"\n",
    "    Function prune by Apriori \n",
    "    \n",
    "    * Parameter:\n",
    "    list_candidate -- a 2D python list, indicate the C_(k+1)\n",
    "    list_previous_frequent_itemset -- a 2D python list, indicate the L_k\n",
    "    \n",
    "    * Return:\n",
    "    new_list_candidate -- a 2D python list, indicate the C_(k+1) after prune redundant candidate.\n",
    "    \"\"\"\n",
    "    \n",
    "    new_list_candidate = []\n",
    "    \n",
    "    # YOUR CODE HERE\n",
    "\n",
    "    new_list_candidate = []\n",
    "    for candidate in list_candidate:\n",
    "        lst = []\n",
    "        for itemset in list_previous_frequent_itemset:\n",
    "            if set(itemset).issubset(set(candidate)):\n",
    "                lst.append(itemset)\n",
    "        if len(lst) == len(candidate):\n",
    "            new_list_candidate.append(candidate)\n",
    "            \n",
    "    return new_list_candidate"
   ]
  },
  {
   "cell_type": "code",
   "execution_count": 42,
   "id": "b3a21c68",
   "metadata": {},
   "outputs": [
    {
     "name": "stdout",
     "output_type": "stream",
     "text": [
      "[['a', 'b', 'c', 'd']]\n"
     ]
    }
   ],
   "source": [
    "# TEST CASE 1\n",
    "\n",
    "list_candidate = [\n",
    "    ['a', 'b', 'c', 'd'],\n",
    "    ['a', 'c', 'd', 'e']\n",
    "]\n",
    "\n",
    "list_previous_frequent_itemset = [\n",
    "    ['a', 'b', 'c'],\n",
    "    ['a', 'b', 'd'],\n",
    "    ['a', 'c', 'd'],\n",
    "    ['a', 'c', 'e'],\n",
    "    ['b', 'c', 'd']\n",
    "]\n",
    "\n",
    "test_1 = Prune_By_Apriori(list_candidate, list_previous_frequent_itemset)\n",
    "print(test_1)\n",
    "assert test_1 == [['a', 'b', 'c', 'd']]"
   ]
  },
  {
   "cell_type": "code",
   "execution_count": 43,
   "id": "9a784961",
   "metadata": {},
   "outputs": [],
   "source": [
    "# TEST CASE 2\n",
    "\n",
    "list_candidate = [\n",
    "    ['a', 'b', 'c'],\\\n",
    "    ['a', 'b', 'd'],\\\n",
    "    ['a', 'b', 'e'],\\\n",
    "    ['a', 'c', 'd'],\\\n",
    "    ['a', 'c', 'e'],\\\n",
    "    ['a', 'd', 'e'],\\\n",
    "    ['b', 'c', 'e']\n",
    "]\n",
    "\n",
    "list_previous_frequent_itemset = [\n",
    "    ['a', 'b'],\\\n",
    "    ['a', 'c'],\\\n",
    "    ['a', 'd'],\\\n",
    "    ['a', 'e'],\\\n",
    "    ['b', 'c'],\\\n",
    "    ['b', 'e'],\\\n",
    "    ['c', 'd'],\\\n",
    "    ['c', 'e'],\\\n",
    "    ['d', 'e'],\\\n",
    "    ['e', 'f']\n",
    "]\n",
    "\n",
    "test_2 = Prune_By_Apriori(list_candidate, list_previous_frequent_itemset)\n",
    "assert test_2 == [\n",
    "    ['a', 'b', 'c'],\\\n",
    "    ['a', 'b', 'e'],\\\n",
    "    ['a', 'c', 'd'],\\\n",
    "    ['a', 'c', 'e'],\\\n",
    "    ['a', 'd', 'e'],\\\n",
    "    ['b', 'c', 'e']\n",
    "]"
   ]
  },
  {
   "cell_type": "markdown",
   "id": "8c0eac39",
   "metadata": {},
   "source": [
    "## Hoàn chỉnh thuật toán Apriori\n",
    "\n",
    "- Trong phần này, chúng ta sẽ hoàn chỉnh việc cài đặt thuật toán Apriori.\n",
    "- Mục tiêu: tìm các tập phổ biến trong `list_transactions`"
   ]
  },
  {
   "cell_type": "code",
   "execution_count": 44,
   "id": "172fc865",
   "metadata": {},
   "outputs": [],
   "source": [
    "def Frequent_Itemset_Mining_Apriori(list_transactions, list_items, min_sup):\n",
    "\n",
    "    list_frequent_itemset = []\n",
    "    \n",
    "    # YOUR CODE HERE\n",
    "    c_list = list_items\n",
    "    l_list = []\n",
    "\n",
    "    while len(c_list) != 0:\n",
    "        l_list = []\n",
    "        for item in c_list:\n",
    "            if type(item) == str:\n",
    "                if Check_Frequent_Itemset([item], list_transactions, min_sup) and [item] not in l_list:\n",
    "                    l_list.append([item])\n",
    "            else:\n",
    "                if Check_Frequent_Itemset(item, list_transactions, min_sup) and item not in l_list:\n",
    "                    l_list.append(item)\n",
    "\n",
    "        l_list = sorted(l_list)\n",
    "        if len(l_list) == 0:\n",
    "            return list_frequent_itemset\n",
    "\n",
    "        list_frequent_itemset = list_frequent_itemset + l_list\n",
    "\n",
    "        c_list = []\n",
    "        for i in range(len(l_list)):\n",
    "            for j in range(i+1, len(l_list)):\n",
    "                join = Cal_Self_Join(l_list[i], l_list[j])\n",
    "                if join != []:\n",
    "                    c_list.append(join)\n",
    "                    \n",
    "        c_list = Prune_By_Apriori(c_list, l_list)\n",
    "        \n",
    "    return list_frequent_itemset"
   ]
  },
  {
   "cell_type": "code",
   "execution_count": 46,
   "id": "1c4d9795",
   "metadata": {
    "scrolled": false
   },
   "outputs": [
    {
     "name": "stdout",
     "output_type": "stream",
     "text": [
      "[['a'], ['b'], ['c'], ['d'], ['e'], ['f'], ['a', 'b'], ['a', 'c'], ['a', 'd'], ['a', 'e'], ['b', 'c'], ['b', 'e'], ['c', 'd'], ['c', 'e'], ['d', 'e'], ['e', 'f'], ['a', 'b', 'c'], ['a', 'c', 'e'], ['b', 'c', 'e'], ['c', 'd', 'e']]\n"
     ]
    }
   ],
   "source": [
    "# TEST\n",
    "\n",
    "list_transactions_test = [\n",
    "    ['a', 'b', 'c', 'd', 'e'],\\\n",
    "    ['c', 'd', 'e', 'f', 'g'],\\\n",
    "    ['a', 'b', 'c', 'd'],\\\n",
    "    ['b', 'c', 'd', 'e'],\\\n",
    "    ['a', 'd', 'e', 'f'],\\\n",
    "    ['a', 'b', 'c', 'e'],\\\n",
    "    ['b', 'c', 'e', 'f'],\\\n",
    "    ['a', 'b', 'g'],\\\n",
    "    ['a', 'b', 'c', 'e', 'f'],\\\n",
    "    ['a', 'c', 'd', 'e'],\\\n",
    "]\n",
    "\n",
    "list_items_test = ['a', 'b', 'c', 'd', 'e', 'f', 'g']\n",
    "\n",
    "min_support_test = 0.4\n",
    "\n",
    "list_fim = Frequent_Itemset_Mining_Apriori(list_transactions_test, list_items_test, min_support_test)\n",
    "\n",
    "print(list_fim)\n",
    "assert list_fim == [\n",
    "                    ['a'], ['b'], ['c'], ['d'], ['e'], ['f'], \\\n",
    "                    ['a', 'b'], ['a', 'c'], ['a', 'd'], ['a', 'e'], ['b', 'c'], ['b', 'e'], \\\n",
    "                    ['c', 'd'], ['c', 'e'], ['d', 'e'], ['e', 'f'], \\\n",
    "                    ['a', 'b', 'c'], ['a', 'c', 'e'], ['b', 'c', 'e'], ['c', 'd', 'e']\n",
    "                   ]"
   ]
  },
  {
   "cell_type": "markdown",
   "id": "570304ed",
   "metadata": {},
   "source": [
    "## Kiểm tra thuật toán Apirori trên tập dữ liệu siêu thị\n",
    "\n",
    "- Cell bên dưới, chỉ có mục đích kiểm tra giá trị `list_transactions` và `list_items` vẫn chính xác và sẳn sàng cho quá trình khai thác."
   ]
  },
  {
   "cell_type": "code",
   "execution_count": 47,
   "id": "4bbaa1a4",
   "metadata": {},
   "outputs": [],
   "source": [
    "assert len(list_transactions) == 9835\n",
    "\n",
    "assert list_items == sorted(list((set(list_items))))\n",
    "assert len(list_items) == 169"
   ]
  },
  {
   "cell_type": "code",
   "execution_count": 48,
   "id": "19b2d344",
   "metadata": {},
   "outputs": [
    {
     "name": "stdout",
     "output_type": "stream",
     "text": [
      "[['bottled water'], ['other vegetables'], ['rolls/buns'], ['root vegetables'], ['soda'], ['tropical fruit'], ['whole milk'], ['yogurt']]\n"
     ]
    }
   ],
   "source": [
    "# Test on our dataset\n",
    "min_support = 0.1\n",
    "\n",
    "list_fim = Frequent_Itemset_Mining_Apriori(list_transactions, list_items, min_support)\n",
    "\n",
    "print(list_fim)"
   ]
  },
  {
   "cell_type": "markdown",
   "id": "8347abfd",
   "metadata": {},
   "source": [
    "### Nhiệm vụ của sinh viên:\n",
    "\n",
    "- Đưa ra hai nhận xét về tập phổ biến.\n",
    "- Sinh viên có thể thay đổi giá trị `min_sup` để quan sát thêm các kết quả."
   ]
  },
  {
   "cell_type": "code",
   "execution_count": 56,
   "id": "93e0c8d4",
   "metadata": {},
   "outputs": [
    {
     "name": "stdout",
     "output_type": "stream",
     "text": [
      "1 item:  28  ->  [['beef'], ['bottled beer'], ['bottled water'], ['brown bread'], ['butter'], ['canned beer'], ['citrus fruit'], ['coffee'], ['curd'], ['domestic eggs'], ['frankfurter'], ['fruit/vegetable juice'], ['margarine'], ['napkins'], ['newspapers'], ['other vegetables'], ['pastry'], ['pip fruit'], ['pork'], ['rolls/buns'], ['root vegetables'], ['sausage'], ['shopping bags'], ['soda'], ['tropical fruit'], ['whipped/sour cream'], ['whole milk'], ['yogurt']] \n",
      "\n",
      "2 item:  3  ->  [['other vegetables', 'whole milk'], ['rolls/buns', 'whole milk'], ['whole milk', 'yogurt']]\n"
     ]
    }
   ],
   "source": [
    "min_support = 0.05\n",
    "\n",
    "list_fim = Frequent_Itemset_Mining_Apriori(list_transactions, list_items, min_support)\n",
    "\n",
    "set_1item = []\n",
    "set_2item = []\n",
    "for itemset in list_fim:\n",
    "    if len(itemset) == 1:\n",
    "        set_1item.append(itemset)\n",
    "    else:\n",
    "        set_2item.append(itemset)\n",
    "\n",
    "print('1 item: ', len(set_1item), ' -> ', set_1item, '\\n')\n",
    "print('2 item: ', len(set_2item), ' -> ', set_2item)"
   ]
  },
  {
   "cell_type": "markdown",
   "id": "d9802d27",
   "metadata": {},
   "source": [
    "- Với min_sup = 0.1: \n",
    "    - Tập phổ biến chỉ có 8 itemset. \n",
    "    - Nhưng lại không có itemset nào có 2 sản phẩm trở lên cả. \n",
    "    - Số lượng itemset gồm có 2 sản phẩm chưa đạt 10%\n",
    "    - Không tìm được 2 sản phẩm để trưng bày gần nhau cho khách hàng mua\n",
    "- Với min_sup = 0.05:\n",
    "    - Lần này có đến 28 itemset có 1 sản phẩm\n",
    "    - Có 3 itemset có 2 sản phẩm đi với nhau.\n",
    "    - Cửa hàng có thể để 2 sản phẩm cùng nằm trong 1 itemset với nhau để bán hàng.\n",
    "    - Tuy nhiên xác suất để chúng được mua cùng với nhau cũng không cao ~ 5% nên phải cân nhắc kĩ hơn để đưa ra sự lựa chọn\n"
   ]
  },
  {
   "cell_type": "markdown",
   "id": "1cb10055",
   "metadata": {},
   "source": []
  }
 ],
 "metadata": {
  "kernelspec": {
   "display_name": "Python 3.10.2 64-bit",
   "language": "python",
   "name": "python3"
  },
  "language_info": {
   "codemirror_mode": {
    "name": "ipython",
    "version": 3
   },
   "file_extension": ".py",
   "mimetype": "text/x-python",
   "name": "python",
   "nbconvert_exporter": "python",
   "pygments_lexer": "ipython3",
   "version": "3.10.2"
  },
  "vscode": {
   "interpreter": {
    "hash": "0c3f1a7d561c5e7000fe22e0f69c159d058d18792b6544b4cdea00d1b72ad225"
   }
  }
 },
 "nbformat": 4,
 "nbformat_minor": 5
}
